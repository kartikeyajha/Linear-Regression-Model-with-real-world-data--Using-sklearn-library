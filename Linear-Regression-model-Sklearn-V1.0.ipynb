{
 "cells": [
  {
   "cell_type": "code",
   "execution_count": 35,
   "metadata": {},
   "outputs": [],
   "source": [
    "'''\n",
    "Pandas is imported as pd for loading the load from the csv file and performing some data preprocessing to fit the model.\n",
    "Linear_model is use to fit the Linear Regression model. This is a standard library.\n",
    "Train_test_split is used to split the data into two parts:\n",
    "                                                            i. Training data\n",
    "                                                            ii.Test data\n",
    "Mean_absolute_error is used to calculate error (difference) from the model's predictions and the actual value from the Test Data.\n",
    "'''\n",
    "import pandas as pd\n",
    "from sklearn.linear_model import LinearRegression\n",
    "from sklearn.model_selection import train_test_split\n",
    "from sklearn.metrics import mean_absolute_error"
   ]
  },
  {
   "cell_type": "code",
   "execution_count": 36,
   "metadata": {},
   "outputs": [
    {
     "data": {
      "text/plain": [
       "Index(['Data', 'Temperatura Media (C)', 'Temperatura Minima (C)',\n",
       "       'Temperatura Maxima (C)', 'Precipitacao (mm)', 'Final de Semana',\n",
       "       'Consumo de cerveja (litros)'],\n",
       "      dtype='object')"
      ]
     },
     "execution_count": 36,
     "metadata": {},
     "output_type": "execute_result"
    }
   ],
   "source": [
    "'''\n",
    "Reading the csv file and printing the column.\n",
    "'''\n",
    "df = pd.read_csv('beer-consumption.csv',decimal=',')\n",
    "df.columns"
   ]
  },
  {
   "cell_type": "code",
   "execution_count": 37,
   "metadata": {},
   "outputs": [
    {
     "data": {
      "text/html": [
       "<div>\n",
       "<style scoped>\n",
       "    .dataframe tbody tr th:only-of-type {\n",
       "        vertical-align: middle;\n",
       "    }\n",
       "\n",
       "    .dataframe tbody tr th {\n",
       "        vertical-align: top;\n",
       "    }\n",
       "\n",
       "    .dataframe thead th {\n",
       "        text-align: right;\n",
       "    }\n",
       "</style>\n",
       "<table border=\"1\" class=\"dataframe\">\n",
       "  <thead>\n",
       "    <tr style=\"text-align: right;\">\n",
       "      <th></th>\n",
       "      <th>Date</th>\n",
       "      <th>AvgTemp</th>\n",
       "      <th>MinTemp</th>\n",
       "      <th>MaxTemp</th>\n",
       "      <th>Precipitation</th>\n",
       "      <th>Weekend</th>\n",
       "      <th>BeerConsumption</th>\n",
       "    </tr>\n",
       "  </thead>\n",
       "  <tbody>\n",
       "    <tr>\n",
       "      <th>0</th>\n",
       "      <td>2015-01-01</td>\n",
       "      <td>27.30</td>\n",
       "      <td>23.9</td>\n",
       "      <td>32.5</td>\n",
       "      <td>0.0</td>\n",
       "      <td>0.0</td>\n",
       "      <td>25.461</td>\n",
       "    </tr>\n",
       "    <tr>\n",
       "      <th>1</th>\n",
       "      <td>2015-01-02</td>\n",
       "      <td>27.02</td>\n",
       "      <td>24.5</td>\n",
       "      <td>33.5</td>\n",
       "      <td>0.0</td>\n",
       "      <td>0.0</td>\n",
       "      <td>28.972</td>\n",
       "    </tr>\n",
       "    <tr>\n",
       "      <th>2</th>\n",
       "      <td>2015-01-03</td>\n",
       "      <td>24.82</td>\n",
       "      <td>22.4</td>\n",
       "      <td>29.9</td>\n",
       "      <td>0.0</td>\n",
       "      <td>1.0</td>\n",
       "      <td>30.814</td>\n",
       "    </tr>\n",
       "    <tr>\n",
       "      <th>3</th>\n",
       "      <td>2015-01-04</td>\n",
       "      <td>23.98</td>\n",
       "      <td>21.5</td>\n",
       "      <td>28.6</td>\n",
       "      <td>1.2</td>\n",
       "      <td>1.0</td>\n",
       "      <td>29.799</td>\n",
       "    </tr>\n",
       "    <tr>\n",
       "      <th>4</th>\n",
       "      <td>2015-01-05</td>\n",
       "      <td>23.82</td>\n",
       "      <td>21.0</td>\n",
       "      <td>28.3</td>\n",
       "      <td>0.0</td>\n",
       "      <td>0.0</td>\n",
       "      <td>28.900</td>\n",
       "    </tr>\n",
       "  </tbody>\n",
       "</table>\n",
       "</div>"
      ],
      "text/plain": [
       "         Date  AvgTemp  MinTemp  MaxTemp  Precipitation  Weekend  \\\n",
       "0  2015-01-01    27.30     23.9     32.5            0.0      0.0   \n",
       "1  2015-01-02    27.02     24.5     33.5            0.0      0.0   \n",
       "2  2015-01-03    24.82     22.4     29.9            0.0      1.0   \n",
       "3  2015-01-04    23.98     21.5     28.6            1.2      1.0   \n",
       "4  2015-01-05    23.82     21.0     28.3            0.0      0.0   \n",
       "\n",
       "   BeerConsumption  \n",
       "0           25.461  \n",
       "1           28.972  \n",
       "2           30.814  \n",
       "3           29.799  \n",
       "4           28.900  "
      ]
     },
     "execution_count": 37,
     "metadata": {},
     "output_type": "execute_result"
    }
   ],
   "source": [
    "'''\n",
    "Doing some preprocessing and printing the first 5 rows.\n",
    "'''\n",
    "df.columns = ['Date','AvgTemp','MinTemp','MaxTemp', 'Precipitation','Weekend','BeerConsumption']\n",
    "df.AvgTemp = df.AvgTemp.fillna(df.AvgTemp.mean())\n",
    "df.BeerConsumption =df.BeerConsumption.astype('float')\n",
    "df.BeerConsumption = df.BeerConsumption.fillna(df.BeerConsumption.mean())\n",
    "df.head()"
   ]
  },
  {
   "cell_type": "code",
   "execution_count": 38,
   "metadata": {},
   "outputs": [],
   "source": [
    "'''\n",
    "Since this is a linear regression problem, i am dropping all the other columns (features).\n",
    "x is the value of the input.\n",
    "y is the value of the output.\n",
    "'''\n",
    "x = pd.DataFrame(df.AvgTemp)\n",
    "y = pd.DataFrame(df.BeerConsumption)"
   ]
  },
  {
   "cell_type": "code",
   "execution_count": 39,
   "metadata": {},
   "outputs": [],
   "source": [
    "'''\n",
    "Here the data is being split into training dataset and test dataset. \n",
    "Also 20% of total number of rows is reserved for test data.\n",
    "'''\n",
    "X_train,X_test,y_train,y_test = train_test_split(x,y,test_size=0.2)"
   ]
  },
  {
   "cell_type": "code",
   "execution_count": 40,
   "metadata": {},
   "outputs": [
    {
     "data": {
      "text/plain": [
       "LinearRegression()"
      ]
     },
     "execution_count": 40,
     "metadata": {},
     "output_type": "execute_result"
    }
   ],
   "source": [
    "# Calling the Linear Regression model and fitting the values into the model.\n",
    "my_lr_model = LinearRegression()\n",
    "my_lr_model.fit(X_train,y_train)"
   ]
  },
  {
   "cell_type": "code",
   "execution_count": 41,
   "metadata": {},
   "outputs": [
    {
     "name": "stdout",
     "output_type": "stream",
     "text": [
      "1.1436482400796313\n"
     ]
    }
   ],
   "source": [
    "'''\n",
    "Using the model I trained above, i am predicting the value of y.\n",
    "I am also calculating the error from the predicted value to actual value and then predicting it.\n",
    "'''\n",
    "my_predictions = my_lr_model.predict(X_test)\n",
    "error_val = mean_absolute_error(my_predictions,y_test)\n",
    "print(error_val)"
   ]
  }
 ],
 "metadata": {
  "kernelspec": {
   "display_name": "Python 3",
   "language": "python",
   "name": "python3"
  },
  "language_info": {
   "codemirror_mode": {
    "name": "ipython",
    "version": 3
   },
   "file_extension": ".py",
   "mimetype": "text/x-python",
   "name": "python",
   "nbconvert_exporter": "python",
   "pygments_lexer": "ipython3",
   "version": "3.8.3"
  }
 },
 "nbformat": 4,
 "nbformat_minor": 4
}
